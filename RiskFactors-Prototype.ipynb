{
 "cells": [
  {
   "cell_type": "code",
   "execution_count": 7,
   "id": "bc1d73ae-d116-4bae-a48b-720980cdf6f2",
   "metadata": {},
   "outputs": [],
   "source": [
    "import PyPDF2\n",
    "import pdfplumber"
   ]
  },
  {
   "cell_type": "code",
   "execution_count": 8,
   "id": "895fa72d-0939-45bb-bf2a-612e7dfd45c8",
   "metadata": {},
   "outputs": [],
   "source": [
    "def extract_text_pdf(pdf_path):\n",
    "    with open(pdf_path, \"rb\") as file:\n",
    "        reader = PyPDF2.PdfReader(file)\n",
    "        text = \"\"\n",
    "        for page in reader.pages:\n",
    "            text += page.extract_text()\n",
    "    return text"
   ]
  },
  {
   "cell_type": "code",
   "execution_count": 9,
   "id": "805d13b6-61ed-4f10-a35a-e33074a374e8",
   "metadata": {},
   "outputs": [],
   "source": [
    "pdf_path = r\"C:\\Users\\Sanael\\Downloads\\Amazon_Report_10k.pdf\""
   ]
  },
  {
   "cell_type": "code",
   "execution_count": 10,
   "id": "0533eff2-4329-44fb-bee2-5d1322ef85f7",
   "metadata": {},
   "outputs": [],
   "source": [
    "text = extract_text_pdf(pdf_path)"
   ]
  },
  {
   "cell_type": "code",
   "execution_count": 11,
   "id": "1d1f0951-f3a3-449a-9b9e-0a8699316eb4",
   "metadata": {},
   "outputs": [
    {
     "data": {
      "text/plain": [
       "279060"
      ]
     },
     "execution_count": 11,
     "metadata": {},
     "output_type": "execute_result"
    }
   ],
   "source": [
    "len(text)"
   ]
  },
  {
   "cell_type": "code",
   "execution_count": 12,
   "id": "26970209-cdfa-4efb-837b-4c6db1e25682",
   "metadata": {},
   "outputs": [],
   "source": [
    "import re\n",
    "\n",
    "def extract_risk_factors(text):\n",
    "    # Looking for headings like 'Risk Factors', 'Item 1A', etc.\n",
    "    risk_section_start = re.search(r'(Item 1A\\. Risk Factors)(?!\\s\\d)', text, re.IGNORECASE)\n",
    "    \n",
    "    if risk_section_start:\n",
    "        # Extract text starting from the found Risk Factors section\n",
    "        risk_text = text[risk_section_start.start():]\n",
    "        \n",
    "        # Optionally, you can define an endpoint based on typical 10-K structure\n",
    "        risk_section_end = re.search(r'(Item 1B\\. Unresolved Staff Comments)(?!\\s\\d)', risk_text)  # Next section start\n",
    "        \n",
    "        if risk_section_end:\n",
    "            risk_text = risk_text[:risk_section_end.start()]  # Get text only until the next section start\n",
    "        \n",
    "        return risk_text\n",
    "    return None\n"
   ]
  },
  {
   "cell_type": "code",
   "execution_count": 13,
   "id": "549e62a1-ab35-4195-838d-e33c9ab678cb",
   "metadata": {},
   "outputs": [],
   "source": [
    "risk_factors_text = extract_risk_factors(text)"
   ]
  },
  {
   "cell_type": "code",
   "execution_count": 14,
   "id": "a2a93ad4-5bd6-4357-9010-c0f36b081f88",
   "metadata": {},
   "outputs": [
    {
     "name": "stdout",
     "output_type": "stream",
     "text": [
      "55554\n"
     ]
    }
   ],
   "source": [
    "if risk_factors_text:\n",
    "    #print(risk_factors_text[:2000])\n",
    "    print(len(risk_factors_text))\n",
    "else:\n",
    "    print(\"Risk Factors section not found\")"
   ]
  },
  {
   "cell_type": "code",
   "execution_count": 15,
   "id": "44307d18-78d3-4524-8f38-46cefe82e9ca",
   "metadata": {},
   "outputs": [],
   "source": [
    "#risk_factors_text"
   ]
  },
  {
   "cell_type": "code",
   "execution_count": 16,
   "id": "ab82a250-afb3-42c7-9abd-16e3c4ecd10b",
   "metadata": {},
   "outputs": [],
   "source": [
    "import re\n",
    "\n",
    "def extract_risk_factors(text):\n",
    "    # Search 'Item 1A. Risk Factors' that starts the risk section\n",
    "    risk_section_start = re.search(r'(^|\\n)(Item 1A\\. Risk Factors)(?!\\s\\d)', text, re.IGNORECASE)\n",
    "    \n",
    "    if risk_section_start:\n",
    "        # Extract text starting from the found Risk Factors section\n",
    "        risk_text = text[risk_section_start.start():]\n",
    "        \n",
    "        # Look for the start of the next section in this case 'Item 1B. Unresolved Satff Comments'\n",
    "        risk_section_end = re.search(r'(Item 1B\\. Unresolved Staff Comments|Item 2\\. Properties)', risk_text)  # Next section start\n",
    "        \n",
    "        if risk_section_end:\n",
    "            risk_text = risk_text[:risk_section_end.start()]  # Get text only until the next section start\n",
    "        \n",
    "        return risk_text.strip()  # Strip leading/trailing spaces or newlines\n",
    "    return None\n"
   ]
  },
  {
   "cell_type": "code",
   "execution_count": 17,
   "id": "52689041-980c-4539-b606-27039bec8610",
   "metadata": {},
   "outputs": [],
   "source": [
    "risk_factors_text = extract_risk_factors(text)"
   ]
  },
  {
   "cell_type": "code",
   "execution_count": 27,
   "id": "18d3becb-8e51-4685-a98d-d92008b39583",
   "metadata": {},
   "outputs": [
    {
     "name": "stdout",
     "output_type": "stream",
     "text": [
      "audit, investigation,\n",
      "or other tax controversy can have a material effect on our operating results or cash flows in the period or periods for which that development occurs, as well\n",
      "as for prior and subsequent periods. Due to the inherent complexity and uncertainty of these matters, interpretations of certain tax laws by authorities, and\n",
      "judicial, administrative, and regulatory processes in certain jurisdictions, the final outcome of any such controversy may be materially different from our\n",
      "expectations. For example, in February 2023, the Indian Tax Authority determined that tax applies to cloud services fees paid to the U.S. We are contesting\n",
      "this determination; however, if this matter is adversely resolved, we may be required to pay additional amounts with respect to current and prior periods\n",
      "and our taxes in the future could increase. We regularly assess the likelihood of an adverse outcome resulting from these proceedings to determine the\n",
      "adequacy of our tax accruals. Although we believe our tax estimates are reasonable, the final outcome of audits, investigations, and any other tax\n",
      "controversies could be materially different from our historical tax accruals.\n",
      "We Are Subject to Risks Related to Government Contracts and Related Procurement Regulations\n",
      "Our contracts with U.S., as well as state, local, and foreign, government entities are subject to various procurement regulations and other\n",
      "requirements relating to their formation, administration, and performance. We are subject to audits and investigations relating to our government contracts,\n",
      "and any violations could result in various civil and criminal penalties and administrative sanctions, including termination of contract, refunding or\n",
      "suspending of payments, forfeiture of profits, payment of fines, and suspension or debarment from future government business. In addition, some of these\n",
      "contracts are subject to periodic funding approval and/or provide for termination by the government at any time, without cause.\n"
     ]
    }
   ],
   "source": [
    "if risk_factors_text:\n",
    "    print(risk_factors_text[-2000:])\n",
    "    #print(len(risk_factors_text))\n",
    "else:\n",
    "    print(\"Risk Factors section not found\")"
   ]
  },
  {
   "cell_type": "code",
   "execution_count": null,
   "id": "37e3d1cd-7e50-492a-a46f-0a1a4c52c51a",
   "metadata": {},
   "outputs": [],
   "source": [
    "import spacy\n",
    "\n",
    "# Load spaCy's English model\n",
    "nlp = spacy.load(\"en_core_web_sm\")\n",
    "\n",
    "# Sample text\n",
    "risk_factors_text\n",
    "\n",
    "# Process the text with spaCy\n",
    "doc = nlp(risk_factors_text)\n",
    "\n",
    "# Tokenization\n",
    "tokens = [token.text for token in doc]\n",
    "\n",
    "# Lemmatization\n",
    "lemmas = [token.lemma_ for token in doc]\n",
    "\n",
    "# Removing stop words\n",
    "filtered_tokens = [token.text for token in doc if not token.is_stop and not token.is_punct]\n",
    "\n",
    "# Cleaning text (optional: removing newline characters, excessive whitespace)\n",
    "cleaned_text = \" \".join(filtered_tokens)"
   ]
  },
  {
   "cell_type": "code",
   "execution_count": null,
   "id": "1f61e1b5-7d6b-4e5c-99d5-3f7558e53b1b",
   "metadata": {},
   "outputs": [],
   "source": [
    "from transformers import pipeline\n",
    "import torch "
   ]
  },
  {
   "cell_type": "code",
   "execution_count": 19,
   "id": "6d31ca0d-6982-469a-be10-5aff440ad991",
   "metadata": {},
   "outputs": [],
   "source": [
    "import google.generativeai as genai"
   ]
  },
  {
   "cell_type": "code",
   "execution_count": 20,
   "id": "87fd67ac-98c5-4b48-9e4a-122144755bbf",
   "metadata": {},
   "outputs": [],
   "source": [
    "genai.configure(api_key=\"x\") # insert here your API key!\n",
    "model = genai.GenerativeModel(\"gemini-1.5-flash\")"
   ]
  },
  {
   "cell_type": "code",
   "execution_count": 21,
   "id": "5d502d32-9ed1-4f96-9e9d-81ab0f502223",
   "metadata": {},
   "outputs": [],
   "source": [
    "prompt2 = f\"\"\"\n",
    "Take the role of an expert financial analyst and from the following summary of the risk section from a 10-K report, answer the following in bullet points and concise:\n",
    "\n",
    "1. The top 3 risks with the greatest financial impact and Specific areas of the Profit & Loss (P&L) statement that may be affected\n",
    "or Balance sheet then add Assumptions and reasoning for each risk.\n",
    "\n",
    "Summary:\n",
    "{risk_factors_text}\n",
    "\"\"\""
   ]
  },
  {
   "cell_type": "code",
   "execution_count": 23,
   "id": "31fd1147-b513-457d-817b-ffb7d3b92b79",
   "metadata": {},
   "outputs": [],
   "source": [
    "response = model.generate_content(prompt2)"
   ]
  },
  {
   "cell_type": "code",
   "execution_count": 24,
   "id": "4a7aa7d7-0de9-4dd4-8032-738b90fd0c8b",
   "metadata": {},
   "outputs": [
    {
     "data": {
      "text/plain": [
       "response:\n",
       "GenerateContentResponse(\n",
       "    done=True,\n",
       "    iterator=None,\n",
       "    result=protos.GenerateContentResponse({\n",
       "      \"candidates\": [\n",
       "        {\n",
       "          \"content\": {\n",
       "            \"parts\": [\n",
       "              {\n",
       "                \"text\": \"**Top 3 Risks with Greatest Financial Impact:**\\n\\n* **1. Intense Competition:** This risk has a broad impact across the entire P&L statement.  \\n\\n    * **Affected Areas:** Revenue (reduced sales), Gross Profit (lower prices or increased costs), Operating Expenses (increased spending on technology, marketing, etc.), Operating Income (reduction in profit margins), Net Income (overall profit reduction).\\n    * **Assumptions & Reasoning:** The highly competitive nature of Amazon's markets, coupled with the entry of new competitors and evolving business models, makes it difficult to maintain market share and pricing power.  This leads to a squeeze on margins and potentially lower overall profitability.  New product launches are also vulnerable due to lack of brand recognition compared to incumbents.\\n\\n* **2. International Operations Risks:** This risk impacts multiple areas of both the P&L and Balance Sheet.\\n\\n    * **Affected Areas:** Revenue (reduced international sales), Cost of Revenue (increased operational costs, fulfillment issues), Operating Expenses (higher marketing, compliance, and legal expenses), Net Income (reduced profits due to operational losses or currency fluctuations), Cash Flow (negative impact from longer receivable cycles, repatriation restrictions), Assets (impairment of international assets due to political or economic instability).\\n    * **Assumptions & Reasoning:**  Amazon's significant international operations expose it to numerous risks, including political instability, regulatory changes (especially in China and India), currency fluctuations, and difficulties in managing diverse markets and legal systems.  These factors can lead to substantial financial losses and operational challenges.  The considerable investment in international expansion is also at risk of yielding poor returns.\\n\\n* **3. Fulfillment Network and Inventory Risks:** This risk directly impacts both the P&L and Balance Sheet.\\n\\n    * **Affected Areas:** Cost of Revenue (increased shipping costs due to inefficiencies and stockouts), Inventory (write-downs/write-offs due to overstocking), Operating Expenses (increased staffing and operational costs during peak seasons), Gross Profit (lower margins), Net Income (reduced profits due to increased costs and potential lost sales).\\n    * **Assumptions & Reasoning:** Amazon's reliance on a complex fulfillment network and substantial inventory levels makes it vulnerable to demand fluctuations, operational inefficiencies (staffing, shipping, etc.), and supply chain disruptions. Inaccurate demand forecasting and logistical issues lead to increased costs and decreased profitability.  Overstocking leads to significant inventory write-downs, directly impacting the balance sheet and profitability.\\n\"\n",
       "              }\n",
       "            ],\n",
       "            \"role\": \"model\"\n",
       "          },\n",
       "          \"finish_reason\": \"STOP\",\n",
       "          \"avg_logprobs\": -0.44764754976003357\n",
       "        }\n",
       "      ],\n",
       "      \"usage_metadata\": {\n",
       "        \"prompt_token_count\": 10234,\n",
       "        \"candidates_token_count\": 503,\n",
       "        \"total_token_count\": 10737\n",
       "      },\n",
       "      \"model_version\": \"gemini-1.5-flash\"\n",
       "    }),\n",
       ")"
      ]
     },
     "execution_count": 24,
     "metadata": {},
     "output_type": "execute_result"
    }
   ],
   "source": [
    "response"
   ]
  },
  {
   "cell_type": "code",
   "execution_count": 25,
   "id": "f3e0ca5e-8c89-40f4-9348-066cc8634fd1",
   "metadata": {},
   "outputs": [
    {
     "name": "stdout",
     "output_type": "stream",
     "text": [
      "**Top 3 Risks with Greatest Financial Impact:**\n",
      "\n",
      "* **1. Intense Competition:** This risk has a broad impact across the entire P&L statement.  \n",
      "\n",
      "    * **Affected Areas:** Revenue (reduced sales), Gross Profit (lower prices or increased costs), Operating Expenses (increased spending on technology, marketing, etc.), Operating Income (reduction in profit margins), Net Income (overall profit reduction).\n",
      "    * **Assumptions & Reasoning:** The highly competitive nature of Amazon's markets, coupled with the entry of new competitors and evolving business models, makes it difficult to maintain market share and pricing power.  This leads to a squeeze on margins and potentially lower overall profitability.  New product launches are also vulnerable due to lack of brand recognition compared to incumbents.\n",
      "\n",
      "* **2. International Operations Risks:** This risk impacts multiple areas of both the P&L and Balance Sheet.\n",
      "\n",
      "    * **Affected Areas:** Revenue (reduced international sales), Cost of Revenue (increased operational costs, fulfillment issues), Operating Expenses (higher marketing, compliance, and legal expenses), Net Income (reduced profits due to operational losses or currency fluctuations), Cash Flow (negative impact from longer receivable cycles, repatriation restrictions), Assets (impairment of international assets due to political or economic instability).\n",
      "    * **Assumptions & Reasoning:**  Amazon's significant international operations expose it to numerous risks, including political instability, regulatory changes (especially in China and India), currency fluctuations, and difficulties in managing diverse markets and legal systems.  These factors can lead to substantial financial losses and operational challenges.  The considerable investment in international expansion is also at risk of yielding poor returns.\n",
      "\n",
      "* **3. Fulfillment Network and Inventory Risks:** This risk directly impacts both the P&L and Balance Sheet.\n",
      "\n",
      "    * **Affected Areas:** Cost of Revenue (increased shipping costs due to inefficiencies and stockouts), Inventory (write-downs/write-offs due to overstocking), Operating Expenses (increased staffing and operational costs during peak seasons), Gross Profit (lower margins), Net Income (reduced profits due to increased costs and potential lost sales).\n",
      "    * **Assumptions & Reasoning:** Amazon's reliance on a complex fulfillment network and substantial inventory levels makes it vulnerable to demand fluctuations, operational inefficiencies (staffing, shipping, etc.), and supply chain disruptions. Inaccurate demand forecasting and logistical issues lead to increased costs and decreased profitability.  Overstocking leads to significant inventory write-downs, directly impacting the balance sheet and profitability.\n",
      "\n"
     ]
    }
   ],
   "source": [
    "# print just relevant text \n",
    "response_content = response.candidates[0].content.parts[0].text\n",
    "print(response_content)\n"
   ]
  },
  {
   "cell_type": "code",
   "execution_count": 26,
   "id": "413aaa85-33bb-435f-8584-ff25d3c4da11",
   "metadata": {},
   "outputs": [
    {
     "data": {
      "text/markdown": [
       "**Top 3 Risks with Greatest Financial Impact:**\n",
       "\n",
       "* **1. Intense Competition:** This risk has a broad impact across the entire P&L statement.  \n",
       "\n",
       "    * **Affected Areas:** Revenue (reduced sales), Gross Profit (lower prices or increased costs), Operating Expenses (increased spending on technology, marketing, etc.), Operating Income (reduction in profit margins), Net Income (overall profit reduction).\n",
       "    * **Assumptions & Reasoning:** The highly competitive nature of Amazon's markets, coupled with the entry of new competitors and evolving business models, makes it difficult to maintain market share and pricing power.  This leads to a squeeze on margins and potentially lower overall profitability.  New product launches are also vulnerable due to lack of brand recognition compared to incumbents.\n",
       "\n",
       "* **2. International Operations Risks:** This risk impacts multiple areas of both the P&L and Balance Sheet.\n",
       "\n",
       "    * **Affected Areas:** Revenue (reduced international sales), Cost of Revenue (increased operational costs, fulfillment issues), Operating Expenses (higher marketing, compliance, and legal expenses), Net Income (reduced profits due to operational losses or currency fluctuations), Cash Flow (negative impact from longer receivable cycles, repatriation restrictions), Assets (impairment of international assets due to political or economic instability).\n",
       "    * **Assumptions & Reasoning:**  Amazon's significant international operations expose it to numerous risks, including political instability, regulatory changes (especially in China and India), currency fluctuations, and difficulties in managing diverse markets and legal systems.  These factors can lead to substantial financial losses and operational challenges.  The considerable investment in international expansion is also at risk of yielding poor returns.\n",
       "\n",
       "* **3. Fulfillment Network and Inventory Risks:** This risk directly impacts both the P&L and Balance Sheet.\n",
       "\n",
       "    * **Affected Areas:** Cost of Revenue (increased shipping costs due to inefficiencies and stockouts), Inventory (write-downs/write-offs due to overstocking), Operating Expenses (increased staffing and operational costs during peak seasons), Gross Profit (lower margins), Net Income (reduced profits due to increased costs and potential lost sales).\n",
       "    * **Assumptions & Reasoning:** Amazon's reliance on a complex fulfillment network and substantial inventory levels makes it vulnerable to demand fluctuations, operational inefficiencies (staffing, shipping, etc.), and supply chain disruptions. Inaccurate demand forecasting and logistical issues lead to increased costs and decreased profitability.  Overstocking leads to significant inventory write-downs, directly impacting the balance sheet and profitability.\n"
      ],
      "text/plain": [
       "<IPython.core.display.Markdown object>"
      ]
     },
     "metadata": {},
     "output_type": "display_data"
    }
   ],
   "source": [
    "from IPython.display import display, Markdown\n",
    "\n",
    "# Display the extracted content as Markdown in Jupyter\n",
    "display(Markdown(response_content))"
   ]
  },
  {
   "cell_type": "code",
   "execution_count": null,
   "id": "da048d38-eb1b-450d-95f8-458564c76680",
   "metadata": {},
   "outputs": [],
   "source": []
  }
 ],
 "metadata": {
  "kernelspec": {
   "display_name": "Python (base)",
   "language": "python",
   "name": "base"
  },
  "language_info": {
   "codemirror_mode": {
    "name": "ipython",
    "version": 3
   },
   "file_extension": ".py",
   "mimetype": "text/x-python",
   "name": "python",
   "nbconvert_exporter": "python",
   "pygments_lexer": "ipython3",
   "version": "3.12.3"
  }
 },
 "nbformat": 4,
 "nbformat_minor": 5
}
